{
  "nbformat": 4,
  "nbformat_minor": 0,
  "metadata": {
    "colab": {
      "name": "Sundeep_Mahensaria_p2.ipynb",
      "provenance": [],
      "private_outputs": true,
      "collapsed_sections": [],
      "include_colab_link": true
    },
    "kernelspec": {
      "display_name": "Python 3",
      "language": "python",
      "name": "python3"
    },
    "language_info": {
      "codemirror_mode": {
        "name": "ipython",
        "version": 3
      },
      "file_extension": ".py",
      "mimetype": "text/x-python",
      "name": "python",
      "nbconvert_exporter": "python",
      "pygments_lexer": "ipython3",
      "version": "3.7.4"
    },
    "toc": {
      "base_numbering": 1,
      "nav_menu": {},
      "number_sections": false,
      "sideBar": true,
      "skip_h1_title": true,
      "title_cell": "Table of Contents",
      "title_sidebar": "Contents",
      "toc_cell": false,
      "toc_position": {},
      "toc_section_display": true,
      "toc_window_display": false
    }
  },
  "cells": [
    {
      "cell_type": "markdown",
      "metadata": {
        "id": "view-in-github",
        "colab_type": "text"
      },
      "source": [
        "<a href=\"https://colab.research.google.com/github/smahensaria/MIDS_bridgeCourse_python/blob/master/Sundeep_Mahensaria_p2.ipynb\" target=\"_parent\"><img src=\"https://colab.research.google.com/assets/colab-badge.svg\" alt=\"Open In Colab\"/></a>"
      ]
    },
    {
      "cell_type": "markdown",
      "metadata": {
        "id": "6t55qCf3Fsxa"
      },
      "source": [
        "# Project 2: Topic Classification"
      ]
    },
    {
      "cell_type": "markdown",
      "metadata": {
        "id": "j9-9G8z4Fsxd"
      },
      "source": [
        "In this project, you'll work with text data from newsgroup posts on a variety of topics. You'll train classifiers to distinguish posts by topics inferred from the text. Whereas with digit classification, where each input is relatively dense (represented as a 28x28 matrix of pixels, many of which are non-zero), here each document is relatively sparse (represented as a bag-of-words). Only a few words of the total vocabulary are active in any given document. The assumption is that a label depends only on the count of words, not their order.\n",
        "\n",
        "The `sklearn` documentation on feature extraction may be useful:\n",
        "http://scikit-learn.org/stable/modules/feature_extraction.html\n",
        "\n",
        "Each problem can be addressed succinctly with the included packages -- please don't add any more. Grading will be based on writing clean, commented code, along with a few short answers.\n",
        "\n",
        "As always, you're welcome to work on the project in groups and discuss ideas on Slack, but <b> please prepare your own write-up with your own code. </b>"
      ]
    },
    {
      "cell_type": "code",
      "metadata": {
        "id": "AUYW83LqFsxd"
      },
      "source": [
        "# This tells matplotlib not to try opening a new window for each plot.\n",
        "%matplotlib inline\n",
        "\n",
        "# General libraries.\n",
        "import re\n",
        "import numpy as np\n",
        "import matplotlib.pyplot as plt\n",
        "\n",
        "# SK-learn libraries for learning.\n",
        "from sklearn.pipeline import Pipeline\n",
        "from sklearn.neighbors import KNeighborsClassifier\n",
        "from sklearn.linear_model import LogisticRegression\n",
        "from sklearn.naive_bayes import BernoulliNB\n",
        "from sklearn.naive_bayes import MultinomialNB\n",
        "\n",
        "# SK-learn libraries for evaluation.\n",
        "from sklearn.metrics import confusion_matrix\n",
        "from sklearn import metrics\n",
        "from sklearn.metrics import classification_report\n",
        "\n",
        "# SK-learn library for importing the newsgroup data.\n",
        "from sklearn.datasets import fetch_20newsgroups\n",
        "\n",
        "# SK-learn libraries for feature extraction from text.\n",
        "from sklearn.feature_extraction.text import *\n",
        "\n",
        "import nltk"
      ],
      "execution_count": null,
      "outputs": []
    },
    {
      "cell_type": "markdown",
      "metadata": {
        "id": "_ALNjGgCFsxg"
      },
      "source": [
        "Load the data, stripping out metadata so that only textual features will be used, and restricting documents to 4 specific topics. By default, newsgroups data is split into training and test sets, but here the test set gets further split into development and test sets.  (If you remove the categories argument from the fetch function calls, you'd get documents from all 20 topics.)"
      ]
    },
    {
      "cell_type": "code",
      "metadata": {
        "id": "ecYpcoxaFsxh"
      },
      "source": [
        "categories = ['alt.atheism', 'talk.religion.misc', 'comp.graphics', 'sci.space']\n",
        "newsgroups_train = fetch_20newsgroups(subset='train',\n",
        "                                      remove=('headers', 'footers', 'quotes'),\n",
        "                                      categories=categories)\n",
        "newsgroups_test  = fetch_20newsgroups(subset='test',\n",
        "                                      remove=('headers', 'footers', 'quotes'),\n",
        "                                      categories=categories)\n",
        "\n",
        "num_test = int(len(newsgroups_test.target) / 2)\n",
        "test_data, test_labels   = newsgroups_test.data[num_test:], newsgroups_test.target[num_test:]\n",
        "dev_data, dev_labels     = newsgroups_test.data[:num_test], newsgroups_test.target[:num_test]\n",
        "train_data, train_labels = newsgroups_train.data, newsgroups_train.target\n",
        "\n",
        "print('training label shape:', train_labels.shape)\n",
        "print('dev label shape:',      dev_labels.shape)\n",
        "print('test label shape:',     test_labels.shape)\n",
        "print('labels names:',         newsgroups_train.target_names)"
      ],
      "execution_count": null,
      "outputs": []
    },
    {
      "cell_type": "markdown",
      "metadata": {
        "id": "OHTnOke6Fsxk"
      },
      "source": [
        "### Part 1:\n",
        "\n",
        "For each of the first 5 training examples, print the text of the message along with the label."
      ]
    },
    {
      "cell_type": "code",
      "metadata": {
        "id": "X8zhA06xFsxl"
      },
      "source": [
        "#def P1(num_examples=5):\n",
        "    ### STUDENT START ###\n",
        "print('first 5 training examples - message and text:')\n",
        "for i in np.arange(5):\n",
        "  print('TRAINING EXAMPLE #', i+1, '. LABEL: ', newsgroups_train.target_names[train_labels[i]], '\\n MESSAGE: ', train_data[i])\n",
        "  print('\\n')\n",
        "\n",
        "    ### STUDENT END ###\n",
        "\n",
        "#P1(5)"
      ],
      "execution_count": null,
      "outputs": []
    },
    {
      "cell_type": "markdown",
      "metadata": {
        "id": "OrPxuIy9WROM"
      },
      "source": [
        ""
      ]
    },
    {
      "cell_type": "code",
      "metadata": {
        "id": "B1KjhJNWLxxc"
      },
      "source": [
        ""
      ],
      "execution_count": null,
      "outputs": []
    },
    {
      "cell_type": "markdown",
      "metadata": {
        "id": "onfno6uHFsxm"
      },
      "source": [
        "### Part 2:\n",
        "\n",
        "Transform the training data into a matrix of **word** unigram feature vectors.  What is the size of the vocabulary? What is the average number of non-zero features per example?  What is the fraction of the non-zero entries in the matrix?  What are the 0th and last feature strings (in alphabetical order)?<br/>\n",
        "_Use `CountVectorization` and its `.fit_transform` method.  Use `.nnz` and `.shape` attributes, and `.get_feature_names` method._\n",
        "\n",
        "Now transform the training data into a matrix of **word** unigram feature vectors using your own vocabulary with these 4 words: [\"atheism\", \"graphics\", \"space\", \"religion\"].  Confirm the size of the vocabulary. What is the average number of non-zero features per example?<br/>\n",
        "_Use `CountVectorization(vocabulary=...)` and its `.transform` method._\n",
        "\n",
        "Now transform the training data into a matrix of **character** bigram and trigram feature vectors.  What is the size of the vocabulary?<br/>\n",
        "_Use `CountVectorization(analyzer=..., ngram_range=...)` and its `.fit_transform` method._\n",
        "\n",
        "Now transform the training data into a matrix of **word** unigram feature vectors and prune words that appear in fewer than 10 documents.  What is the size of the vocabulary?<br/>\n",
        "_Use `CountVectorization(min_df=...)` and its `.fit_transform` method._\n",
        "\n",
        "Now again transform the training data into a matrix of **word** unigram feature vectors. What is the fraction of words in the development vocabulary that is missing from the training vocabulary?<br/>\n",
        "_Hint: Build vocabularies for both train and dev and look at the size of the difference._\n",
        "\n",
        "Notes:\n",
        "* `.fit_transform` makes 2 passes through the data: first it computes the vocabulary (\"fit\"), second it converts the raw text into feature vectors using the vocabulary (\"transform\").\n",
        "* `.fit_transform` and `.transform` return sparse matrix objects.  See about them at http://docs.scipy.org/doc/scipy-0.14.0/reference/generated/scipy.sparse.csr_matrix.html.  "
      ]
    },
    {
      "cell_type": "code",
      "metadata": {
        "id": "LyVwk5RvFsxn"
      },
      "source": [
        "#def P2():\n",
        "    ### STUDENT START ###\n",
        "\n",
        "# To create a Count Vectorizer, we simply need to instantiate one.\n",
        "# There are special parameters we can set here when making the vectorizer, but\n",
        "# for the most basic example, it is not needed.\n",
        "vectorizer = CountVectorizer()\n",
        "\n",
        "# To actually create the vectorizer, we simply need to call fit on the text\n",
        "# data that we wish to fix\n",
        "#vectorizer.fit(sample_text)\n",
        "vectorizer.fit(train_data)\n",
        "\n",
        "# Now, we can inspect how our vectorizer vectorized the text\n",
        "# This will print out a list of words used, and their index in the vectors\n",
        "print('Vocabulary: ')\n",
        "print(vectorizer.vocabulary_)\n",
        "\n",
        "# If we would like to actually create a vector, we can do so by passing the\n",
        "# text into the vectorizer to get back counts\n",
        "vector = vectorizer.transform(train_data)\n",
        "\n",
        "# Our final vector:\n",
        "print('Full vector: ')\n",
        "print(vector.toarray())\n",
        "\n",
        "    ### STUDENT END ###\n",
        "\n",
        "#P2()"
      ],
      "execution_count": null,
      "outputs": []
    },
    {
      "cell_type": "code",
      "metadata": {
        "id": "m6Il0ZSpONXD"
      },
      "source": [
        "#def P2():\n",
        "    ### STUDENT START ###\n",
        "\n",
        "vectorizer = CountVectorizer()\n",
        "X = vectorizer.fit_transform(train_data)\n",
        "print(vectorizer.get_feature_names())\n",
        "\n",
        "    ### STUDENT END ###\n",
        "\n",
        "#P2()"
      ],
      "execution_count": null,
      "outputs": []
    },
    {
      "cell_type": "markdown",
      "metadata": {
        "id": "OVuaBWhUQycb"
      },
      "source": [
        "What is the size of the vocabulary? \\\n",
        "What is the average number of non-zero features per example? \\\n",
        "What is the fraction of the non-zero entries in the matrix? \\\n",
        "What are the 0th and last feature strings (in alphabetical order)? \\\n",
        "\n",
        "Use CountVectorization and its `.fit_transform` method. Use `.nnz` and `.shape` attributes, and `.get_feature_names` method."
      ]
    },
    {
      "cell_type": "code",
      "metadata": {
        "id": "laJ2NeYFQDD1"
      },
      "source": [
        "print('Size of vocabulary:', len(vectorizer.get_feature_names())) # we can also use X.shape[1])\n",
        "\n",
        "#Average number of non-zero features per example = number of non-zero features over all examples / number of examples\n",
        "print('Average number of non-zero features per example:', X.nnz / (X.shape[0]))\n",
        "\n",
        "#Fraction of non-zero entries in the matrix = number of non-zero entries / total number of entries\n",
        "print('Fraction of non-zero entries in the matrix:', X.nnz / (X.shape[0]*X.shape[1]))\n",
        "\n",
        "#0th and last feature strings (in alphabetical order)\n",
        "print('0th string:', vectorizer.get_feature_names()[0], '; Last feature string:', vectorizer.get_feature_names()[len(vectorizer.get_feature_names())-1])"
      ],
      "execution_count": null,
      "outputs": []
    },
    {
      "cell_type": "markdown",
      "metadata": {
        "id": "YVHZU5xhWVIK"
      },
      "source": [
        "Now transform the training data into a matrix of **word** unigram feature vectors using your own vocabulary with these 4 words: [\"atheism\", \"graphics\", \"space\", \"religion\"].  \\\n",
        "Confirm the size of the vocabulary. \\\n",
        "What is the average number of non-zero features per example?<br/>\n",
        "_Use `CountVectorization(vocabulary=...)` and its `.transform` method._"
      ]
    },
    {
      "cell_type": "code",
      "metadata": {
        "id": "2dtd3sixWWVg"
      },
      "source": [
        "myvocabulary =  [\"atheism\", \"graphics\", \"space\", \"religion\"]\n",
        "vectorizer2 = CountVectorizer(vocabulary=myvocabulary)\n",
        "X = vectorizer2.transform(train_data)\n",
        "print(vectorizer2.get_feature_names())\n",
        "print('Size of vocabulary:', len(vectorizer2.get_feature_names()))\n",
        "\n",
        "print('Number of examples:', X.shape[0])\n",
        "print('Average number of non-zero features per example:', X.nnz / X.shape[0])"
      ],
      "execution_count": null,
      "outputs": []
    },
    {
      "cell_type": "markdown",
      "metadata": {
        "id": "vji3H5j_aITI"
      },
      "source": [
        "Now transform the training data into a matrix of character bigram and trigram feature vectors. \\\n",
        "What is the size of the vocabulary? \\\n",
        "Use CountVectorization(analyzer=..., ngram_range=...) and its .fit_transform method."
      ]
    },
    {
      "cell_type": "code",
      "metadata": {
        "id": "07GWZTK0PCCS"
      },
      "source": [
        "vectorizer3 = CountVectorizer(analyzer='char', ngram_range=(2,2))\n",
        "X = vectorizer3.fit_transform(train_data)\n",
        "#print(vectorizer3.get_feature_names())\n",
        "print('Size of vocabulary for character bigram:', len(vectorizer3.get_feature_names()))\n",
        "\n",
        "vectorizer4 = CountVectorizer(analyzer='char', ngram_range=(3,3))\n",
        "X = vectorizer4.fit_transform(train_data)\n",
        "print('Size of vocabulary for character trigram:', len(vectorizer4.get_feature_names()))\n",
        "\n",
        "#let's try character unigram to se how many different characters have been used\n",
        "vectorizer5 = CountVectorizer(analyzer='char', ngram_range=(1,1))\n",
        "X = vectorizer5.fit_transform(train_data)\n",
        "print('Size of vocabulary for character unigram:', len(vectorizer5.get_feature_names()))"
      ],
      "execution_count": null,
      "outputs": []
    },
    {
      "cell_type": "markdown",
      "metadata": {
        "id": "zIGuB_hVcNQ6"
      },
      "source": [
        "Now transform the training data into a matrix of word unigram feature vectors and prune words that appear in fewer than 10 documents.\\\n",
        "What is the size of the vocabulary?\\\n",
        "Use CountVectorization(min_df=...) and its .fit_transform method."
      ]
    },
    {
      "cell_type": "code",
      "metadata": {
        "id": "T-7LaJuwOP6H"
      },
      "source": [
        "vectorizer6 = CountVectorizer(analyzer='word', ngram_range=(1,1), min_df=10)\n",
        "X = vectorizer6.fit_transform(train_data)\n",
        "print('Size of vocabulary without words that appear in fewer than 10 documents:', len(vectorizer6.get_feature_names()))"
      ],
      "execution_count": null,
      "outputs": []
    },
    {
      "cell_type": "markdown",
      "metadata": {
        "id": "9-jHc695daIa"
      },
      "source": [
        "Now again transform the training data into a matrix of word unigram feature vectors.\\\n",
        "What is the fraction of words in the development vocabulary that is missing from the training vocabulary?\\\n",
        "Hint: Build vocabularies for both train and dev and look at the size of the difference."
      ]
    },
    {
      "cell_type": "code",
      "metadata": {
        "id": "hAaoythYdbL2"
      },
      "source": [
        "vectorizer7 = CountVectorizer()\n",
        "X = vectorizer7.fit_transform(train_data)\n",
        "\n",
        "print('Size of vocabulary in training data:', len(vectorizer7.get_feature_names()))\n",
        "\n",
        "vectorizer8 = CountVectorizer()\n",
        "X = vectorizer8.fit_transform(dev_data)\n",
        "\n",
        "print('Size of vocabulary in development data:', len(vectorizer8.get_feature_names()))\n",
        "print('Fraction of words in development data, missing from training data:', len(set(vectorizer8.get_feature_names()) - set(vectorizer7.get_feature_names()))/len(vectorizer8.get_feature_names()))\n",
        "\n",
        "# #experimentation\n",
        "# print('Vocabulary in development data, missing from training data:', len(set(vectorizer8.get_feature_names()) - set(vectorizer7.get_feature_names())))\n",
        "# print('Vocabulary in development data, missing from training data:', (set(vectorizer8.get_feature_names()) - set(vectorizer7.get_feature_names())))\n",
        "# print('Vocabulary in development data, missing from training data:', (set(vectorizer8.get_feature_names()).symmetric_difference(set(vectorizer7.get_feature_names()))))\n",
        "# print('Vocabulary in development data, missing from training data (symmetric difference - WE DO NOT WANT THIS):', len(set(vectorizer8.get_feature_names()).symmetric_difference(set(vectorizer7.get_feature_names()))))"
      ],
      "execution_count": null,
      "outputs": []
    },
    {
      "cell_type": "markdown",
      "metadata": {
        "id": "ydjkRh6LFsxp"
      },
      "source": [
        "### Part 3:\n",
        "\n",
        "Transform the training and development data to matrices of word unigram feature vectors.\n",
        "\n",
        "1. Produce several k-Nearest Neigbors models by varying k, including one with k set to optimize f1 score.  For each model, show the k value and f1 score.\n",
        "1. Produce several Naive Bayes models by varying smoothing (alpha), including one with alpha set approximately to optimize f1 score.  For each model, show the alpha value and f1 score.\n",
        "1. Produce several Logistic Regression models by varying L2 regularization strength (C), including one with C set approximately to optimize f1 score.  For each model, show the C value, f1 score, and sum of squared weights for each topic.\n",
        "\n",
        "* Why doesn't k-Nearest Neighbors work well for this problem?\n",
        "* Why doesn't Logistic Regression work as well as Naive Bayes does?\n",
        "* What is the relationship between logistic regression's sum of squared weights vs. C value?\n",
        "\n",
        "Notes:\n",
        "* Train on the transformed training data.\n",
        "* Evaluate on the transformed development data.\n",
        "* You can use `CountVectorizer` and its `.fit_transform` and `.transform` methods to transform data.\n",
        "* You can use `KNeighborsClassifier(...)` to produce a k-Nearest Neighbors model.\n",
        "* You can use `MultinomialNB(...)` to produce a Naive Bayes model.\n",
        "* You can use `LogisticRegression(C=..., solver=\"liblinear\", multi_class=\"auto\")` to produce a Logistic Regression model.\n",
        "* You can use `LogisticRegression`'s `.coef_` method to get weights for each topic.\n",
        "* You can use `metrics.f1_score(..., average=\"weighted\")` to compute f1 score."
      ]
    },
    {
      "cell_type": "code",
      "metadata": {
        "id": "VvhpODdWFsxp"
      },
      "source": [
        "#def P3():\n",
        "    ### STUDENT START ###\n",
        "    ### STUDENT END ###\n",
        "\n",
        "#P3()"
      ],
      "execution_count": null,
      "outputs": []
    },
    {
      "cell_type": "markdown",
      "metadata": {
        "id": "jWtXwAlOFsxr"
      },
      "source": [
        "ANSWER:"
      ]
    },
    {
      "cell_type": "markdown",
      "metadata": {
        "id": "dGEjsm_uFsxr"
      },
      "source": [
        "### Part 4:\n",
        "\n",
        "Transform the data to a matrix of word **bigram** feature vectors.  Produce a Logistic Regression model.  For each topic, find the 5 features with the largest weights (that's 20 features in total).  Show a 20 row (features) x 4 column (topics) table of the weights.\n",
        "\n",
        "Do you see any surprising features in this table?\n",
        "\n",
        "Notes:\n",
        "* Train on the transformed training data.\n",
        "* You can use `CountVectorizer` and its `.fit_transform` method to transform data.\n",
        "* You can use `LogisticRegression(C=0.5, solver=\"liblinear\", multi_class=\"auto\")` to produce a Logistic Regression model.\n",
        "* You can use `LogisticRegression`'s `.coef_` method to get weights for each topic.\n",
        "* You can use `np.argsort` to get indices sorted by element value. "
      ]
    },
    {
      "cell_type": "code",
      "metadata": {
        "id": "WN51Nv4fFsxs"
      },
      "source": [
        "#def P4():\n",
        "    ### STUDENT START ###\n",
        "    ### STUDENT END ###\n",
        "\n",
        "#P4()"
      ],
      "execution_count": null,
      "outputs": []
    },
    {
      "cell_type": "markdown",
      "metadata": {
        "id": "cY67F-tXFsxt"
      },
      "source": [
        "ANSWER:"
      ]
    },
    {
      "cell_type": "markdown",
      "metadata": {
        "id": "rVWhSJHHFsxu"
      },
      "source": [
        "### Part 5:\n",
        "\n",
        "To improve generalization, it is common to try preprocessing text in various ways before splitting into words. For example, you could try transforming strings to lower case, replacing sequences of numbers with single tokens, removing various non-letter characters, and shortening long words.\n",
        "\n",
        "Produce a Logistic Regression model (with no preprocessing of text).  Evaluate and show its f1 score and size of the dictionary.\n",
        "\n",
        "Produce an improved Logistic Regression model by preprocessing the text.  Evaluate and show its f1 score and size of the vocabulary.  Try for an improvement in f1 score of at least 0.02.\n",
        "\n",
        "How much did the improved model reduce the vocabulary size?\n",
        "\n",
        "Notes:\n",
        "* Train on the transformed training data.\n",
        "* Evaluate on the transformed development data.\n",
        "* You can use `CountVectorizer(preprocessor=...)` to preprocess strings with your own custom-defined function.\n",
        "* `CountVectorizer` default is to preprocess strings to lower case.\n",
        "* You can use `LogisticRegression(C=0.5, solver=\"liblinear\", multi_class=\"auto\")` to produce a logistic regression model.\n",
        "* You can use `metrics.f1_score(..., average=\"weighted\")` to compute f1 score.\n",
        "* If you're not already familiar with regular expressions for manipulating strings, see https://docs.python.org/2/library/re.html, and re.sub() in particular."
      ]
    },
    {
      "cell_type": "code",
      "metadata": {
        "id": "l7gS3cGpFsxv"
      },
      "source": [
        "#def better_preprocessor(s):\n",
        "    ### STUDENT START ###\n",
        "    ### STUDENT END ###\n",
        "\n",
        "#def P5():\n",
        "    ### STUDENT START ###\n",
        "    ### STUDENT END ###\n",
        "\n",
        "#P5()"
      ],
      "execution_count": null,
      "outputs": []
    },
    {
      "cell_type": "markdown",
      "metadata": {
        "id": "Uy-WITbNFsxw"
      },
      "source": [
        "### Part 6:\n",
        "\n",
        "The idea of regularization is to avoid learning very large weights (which are likely to fit the training data, but not generalize well) by adding a penalty to the total size of the learned weights. Logistic regression seeks the set of weights that minimizes errors in the training data AND has a small total size. The default L2 regularization computes this size as the sum of the squared weights (as in Part 3 above). L1 regularization computes this size as the sum of the absolute values of the weights. Whereas L2 regularization makes all the weights relatively small, L1 regularization drives many of the weights to 0, effectively removing unimportant features.\n",
        "\n",
        "For several L1 regularization strengths ...<br/>\n",
        "* Produce a Logistic Regression model using the **L1** regularization strength.  Reduce the vocabulary to only those features that have at least one non-zero weight among the four categories.  Produce a new Logistic Regression model using the reduced vocabulary and **L2** regularization strength of 0.5.  Evaluate and show the L1 regularization strength, vocabulary size, and f1 score associated with the new model.\n",
        "\n",
        "Show a plot of f1 score vs. log vocabulary size.  Each point corresponds to a specific L1 regularization strength used to reduce the vocabulary.\n",
        "\n",
        "How does performance of the models based on reduced vocabularies compare to that of a model based on the full vocabulary?\n",
        "\n",
        "Notes:\n",
        "* Train on the transformed training data.\n",
        "* Evaluate on the transformed development data.\n",
        "* You can use `LogisticRegression(..., penalty=\"l1\")` to produce a logistic regression model using L1 regularization.\n",
        "* You can use `LogisticRegression(..., penalty=\"l2\")` to produce a logistic regression model using L2 regularization.\n",
        "* You can use `LogisticRegression(..., tol=0.015)` to produce a logistic regression model using relaxed gradient descent convergence criteria.  The gradient descent code that trains the logistic regression model sometimes has trouble converging with extreme settings of the C parameter. Relax the convergence criteria by setting tol=.015 (the default is .0001)."
      ]
    },
    {
      "cell_type": "code",
      "metadata": {
        "id": "l6ho31SrFsxx"
      },
      "source": [
        "#def P6():\n",
        "    # Keep this random seed here to make comparison easier.\n",
        "    #np.random.seed(0)\n",
        "    \n",
        "    ### STUDENT START ###\n",
        "    ### STUDENT END ###\n",
        "\n",
        "#P6()"
      ],
      "execution_count": null,
      "outputs": []
    },
    {
      "cell_type": "markdown",
      "metadata": {
        "id": "bZmIPwExFsx1"
      },
      "source": [
        "ANSWER:"
      ]
    },
    {
      "cell_type": "markdown",
      "metadata": {
        "id": "QmrHf8AMFsxz"
      },
      "source": [
        "### Part 7:\n",
        "\n",
        "How is `TfidfVectorizer` different than `CountVectorizer`?\n",
        "\n",
        "Produce a Logistic Regression model based on data represented in tf-idf form, with L2 regularization strength of 100.  Evaluate and show the f1 score.  How is `TfidfVectorizer` different than `CountVectorizer`?\n",
        "\n",
        "Show the 3 documents with highest R ratio, where ...<br/>\n",
        "$R\\,ratio = maximum\\,predicted\\,probability \\div predicted\\,probability\\,of\\,correct\\,label$\n",
        "\n",
        "Explain what the R ratio describes.  What kinds of mistakes is the model making? Suggest a way to address one particular issue that you see.\n",
        "\n",
        "Note:\n",
        "* Train on the transformed training data.\n",
        "* Evaluate on the transformed development data.\n",
        "* You can use `TfidfVectorizer` and its `.fit_transform` method to transform data to tf-idf form.\n",
        "* You can use `LogisticRegression(C=100, solver=\"liblinear\", multi_class=\"auto\")` to produce a logistic regression model.\n",
        "* You can use `LogisticRegression`'s `.predict_proba` method to access predicted probabilities."
      ]
    },
    {
      "cell_type": "code",
      "metadata": {
        "id": "8vwU_9t2Fsx0"
      },
      "source": [
        "#def P7():\n",
        "    ### STUDENT START ###\n",
        "    ### STUDENT END ###\n",
        "\n",
        "#P7()"
      ],
      "execution_count": null,
      "outputs": []
    },
    {
      "cell_type": "markdown",
      "metadata": {
        "id": "qRHwQrdvhXrG"
      },
      "source": [
        "ANSWER:"
      ]
    },
    {
      "cell_type": "markdown",
      "metadata": {
        "id": "VmsDxtzoFsx1"
      },
      "source": [
        "### Part 8 EXTRA CREDIT:\n",
        "\n",
        "Produce a Logistic Regression model to implement your suggestion from Part 7."
      ]
    },
    {
      "cell_type": "code",
      "metadata": {
        "id": "ZMaqe8c5Fsx2"
      },
      "source": [
        ""
      ],
      "execution_count": null,
      "outputs": []
    }
  ]
}